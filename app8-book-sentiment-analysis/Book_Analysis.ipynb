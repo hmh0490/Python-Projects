{
 "cells": [
  {
   "cell_type": "markdown",
   "id": "53b7aa53-37a1-473e-9e6d-4544b7002e40",
   "metadata": {},
   "source": [
    "## Load the book"
   ]
  },
  {
   "cell_type": "code",
   "execution_count": 11,
   "id": "908ccd97-662f-4925-a858-1f7daf3bcf8b",
   "metadata": {},
   "outputs": [],
   "source": [
    "with open(\"miracle_in_the_andes.txt\", \"r\", errors='ignore') as file:\n",
    "    book = file.read()"
   ]
  },
  {
   "cell_type": "code",
   "execution_count": 13,
   "id": "000a68f3-bba5-48f7-bd57-99dcae48d873",
   "metadata": {},
   "outputs": [
    {
     "data": {
      "text/plain": [
       "str"
      ]
     },
     "execution_count": 13,
     "metadata": {},
     "output_type": "execute_result"
    }
   ],
   "source": [
    "type(book)"
   ]
  },
  {
   "cell_type": "markdown",
   "id": "65278933-e66a-4001-9882-eb399b4927b1",
   "metadata": {},
   "source": [
    "## How many chapters?"
   ]
  },
  {
   "cell_type": "markdown",
   "id": "d031ae4f-a25c-4c45-aaed-adff5c780a8f",
   "metadata": {},
   "source": [
    "### With string methods"
   ]
  },
  {
   "cell_type": "code",
   "execution_count": 14,
   "id": "fbfe90c4-533f-48e4-aca6-df6a7ee92e0c",
   "metadata": {},
   "outputs": [
    {
     "data": {
      "text/plain": [
       "11"
      ]
     },
     "execution_count": 14,
     "metadata": {},
     "output_type": "execute_result"
    }
   ],
   "source": [
    "book.count(\"Chapter\")"
   ]
  },
  {
   "cell_type": "markdown",
   "id": "e9415656-d604-4adb-847e-83807d6cfa08",
   "metadata": {},
   "source": [
    "### With Regex"
   ]
  },
  {
   "cell_type": "code",
   "execution_count": 5,
   "id": "6a8f6370-55a5-4768-9622-051f71dc6696",
   "metadata": {},
   "outputs": [],
   "source": [
    "import re"
   ]
  },
  {
   "cell_type": "code",
   "execution_count": 6,
   "id": "b4896acd-e10e-49fa-ac28-50de676b7d56",
   "metadata": {},
   "outputs": [
    {
     "data": {
      "text/plain": [
       "10"
      ]
     },
     "execution_count": 6,
     "metadata": {},
     "output_type": "execute_result"
    }
   ],
   "source": [
    "pattern = re.compile(\"Chapter [0-9]+\")\n",
    "findings = re.findall(pattern, book)\n",
    "len(findings)"
   ]
  },
  {
   "cell_type": "markdown",
   "id": "552f12af-da15-44a1-ac82-ae147074f7d2",
   "metadata": {},
   "source": [
    "## Which are the sentences where \"love\" was used?"
   ]
  },
  {
   "cell_type": "code",
   "execution_count": 7,
   "id": "02b8abb5-6557-4b83-8993-a84924cc2bca",
   "metadata": {},
   "outputs": [
    {
     "data": {
      "text/plain": [
       "[' love for the sport that shaped our friendships and our lives.',\n",
       " ' love of motorcycles, cars, and auto racing.',\n",
       " ' love the game of rugby with a consuming passion.',\n",
       " ' love with the beautiful daughter of a Chilean diplomat.',\n",
       " ' love and comforts of a family that was happy and whole.',\n",
       " ' love for cars and driving, and he loved going with us to auto races.',\n",
       " ' love it.',\n",
       " ' love and because of her love and protection I grew up believing the world was a safe, familiar place.',\n",
       " ' love for us subtly, quietly, and in ways that were true to the man he was.',\n",
       " ' love for his family he had arranged in his mind a future that would keep us all safe, happy, and always together.',\n",
       " ' love for the closeness of family, but she was no stay-at-home girl.',\n",
       " ' love the U.',\n",
       " ' love. The words inspired nothing in me but a black sense of loss.',\n",
       " ' love for her, for my lost friends and my family, for the suddenly fragile notion of my own life and future, swelled in my heart with an ache so profound it sapped all my strength, and for a moment I thought I would pass out.',\n",
       " ' love and peace and joy I had ever known and would ever know; as if by holding on tight I could keep everything precious from slipping away.',\n",
       " ' love for my father tugging at me like a lifeline, drawing me toward those barren slopes.',\n",
       " ' love for my father was the only thing that kept me sane, and time after time I would calm myself by reaffirming the promise I had made at Susyâ€™s grave: to return to him; to show him I had survived and to ease his suffering a little.',\n",
       " ' love so radiant and urgent that it took my breath away.',\n",
       " ' love. When I pray this way, I know that God is love.',\n",
       " ' love, I remember that we donâ€™t need angels or a heaven, because we are a part of God already.',\n",
       " ' love to mother these frightened boys who were so far from their families.',\n",
       " ' love God and to love others as Jesus had taught us.',\n",
       " ' love for him, and this love would be stronger than my suffering, or my fear.',\n",
       " ' love for my father had taken on the irresistible power of a biological drive.',\n",
       " ' love God and love others and trust in Godâ€™s will.',\n",
       " ' love, Nando.',\n",
       " ' love, I want to cry.',\n",
       " ' love our families, and God, and each other as long as we live.',\n",
       " ' love them, wonâ€™t you? Thatâ€™s all that matters to me now.',\n",
       " ' love to so many beautiful girls.',\n",
       " ' love for her grandson, and had handled them so tenderly on the plane.',\n",
       " ' love for my father swelled in my heart, and I realized that, despite the hopelessness of my situation, the memory of him filled me with joy.',\n",
       " ' love. I felt a moment of calmness and clarity, and in that clarity of mind I discovered a simple, astounding secret: Death has an opposite, but the opposite is not mere living.',\n",
       " ' love. How had I missed that? How does anyone miss that? Love is our only weapon.',\n",
       " ' love can turn mere life into a miracle, and draw precious meaning from suffering and fear.',\n",
       " ' love and hope in my heart.',\n",
       " ' love.â€\\n\\nâ€œReally?â€ he laughed.',\n",
       " ' love of a wife, a family of my own, a reunion with my grandmother and older sister, and always the embrace of my father.',\n",
       " ' love and affection for the very idea of my life, was a deeper part of me than hopelessness or fear or pain or hunger.',\n",
       " ' love as I held her.',\n",
       " ' love had been the guiding light that led me to safety.',\n",
       " ' love. News of our survival was making headlines around the globe, and public interest was intense.',\n",
       " ' love it,â€ I said, finally.',\n",
       " ' love, and it required all my effort to take my eyes off Veronique, and to remind myself there was anyone else in the room.',\n",
       " ' love with her all over again.',\n",
       " ' love anything as much as I loved my wife, but when I gazed into my babyâ€™s face, I was struck senseless by my love for her.',\n",
       " ' love and happinessâ€”and I realized that every grueling step I had taken through that godforsaken wilderness was a step toward the tiny, precious miracle I held in my arms.',\n",
       " ' love. I donâ€™t know if my father has ever understood how important he was to me when I was lost.',\n",
       " ' love. He was never an openly affectionate man, but I never doubted his love when I was a boy.',\n",
       " ' love, but solid and deep and enduring.',\n",
       " ' love was like a safety line anchored in the world of the living.',\n",
       " ' love, I was not lost, I was connected to my home and to my future, and in the end it was that strong cord of love that led me out of danger.',\n",
       " ' love.\\n\\n\\nWHEN MY FELLOW survivors and I first returned from the mountains, our parents and teachers, worried that weâ€™d been scarred by the horrors weâ€™d faced, asked us to visit a therapist.',\n",
       " ' love, the love in my heart, and for one incredible moment, as I felt this love swellâ€”love for my father, for my future, for the simple wonder of being aliveâ€”death lost its power.',\n",
       " ' love, and that saved me.',\n",
       " ' love. Life has blessed me with material success.',\n",
       " ' love to travel.',\n",
       " ' love of my family and my friends, all the trappings of worldly success would ring hollow.',\n",
       " ' love.\\n\\nI expect most people would like to think of themselves this way, but I know that if I had not suffered as I did, and had not been forced to stare death in the face, I would not treasure the simple, precious pleasures of my life as richly as I do.',\n",
       " ' love and gratitude for all the gifts Iâ€™ve been given, and I fill myself more and more deeply with life.',\n",
       " ' love, and I have often thought that when we feel what we call love, we are really feeling our connection to this awesome presence.',\n",
       " ' love, an ocean of love, the very source of love, and I imagine myself merging with it.',\n",
       " ' love toward the people who are close to me, hoping to protect them and bind them to me forever and connect us all to whatever there is in the world that is eternal.',\n",
       " ' love that kept me connected to the world of the living.',\n",
       " ' love for my father and my future, and that trust led me home.',\n",
       " ' love I feel for my family and my friends, and through the simple wonder of being alive.',\n",
       " ' love. I have tried to love my friends with a loyal and generous heart.']"
      ]
     },
     "execution_count": 7,
     "metadata": {},
     "output_type": "execute_result"
    }
   ],
   "source": [
    "pattern = re.compile(\"[^a-zA-Z]love[^a-zA-Z]+[^.]*.\")\n",
    "findings = re.findall(pattern, book)\n",
    "findings"
   ]
  },
  {
   "cell_type": "markdown",
   "id": "6855988e-f0c9-4145-8968-451172c280f7",
   "metadata": {},
   "source": [
    "### * : zero or more times\n",
    "### + : one or more times\n",
    "### {1}: exactly one time"
   ]
  },
  {
   "cell_type": "markdown",
   "id": "cfee1bbc-1c7f-4766-9c23-711e5456b877",
   "metadata": {},
   "source": [
    "## Most used words"
   ]
  },
  {
   "cell_type": "code",
   "execution_count": 8,
   "id": "66424a8f-eac9-498d-b05a-d54c1fd0a404",
   "metadata": {},
   "outputs": [
    {
     "data": {
      "text/plain": [
       "['chapter',\n",
       " 'before',\n",
       " 'it',\n",
       " 'was',\n",
       " 'friday',\n",
       " 'the',\n",
       " 'thirteenth',\n",
       " 'of',\n",
       " 'october',\n",
       " 'we']"
      ]
     },
     "execution_count": 8,
     "metadata": {},
     "output_type": "execute_result"
    }
   ],
   "source": [
    "pattern = re.compile(\"[a-zA-Z]+\")\n",
    "findings = re.findall(pattern, book.lower())\n",
    "findings[:10]"
   ]
  },
  {
   "cell_type": "code",
   "execution_count": 9,
   "id": "db70ee1d-d007-40d2-97b8-83f702f928e9",
   "metadata": {},
   "outputs": [],
   "source": [
    "dict = {}\n",
    "for word in findings:\n",
    "    if word in dict.keys():\n",
    "        dict[word] = dict[word] + 1\n",
    "    else:\n",
    "        dict[word] = 1"
   ]
  },
  {
   "cell_type": "code",
   "execution_count": 10,
   "id": "3b36743e-af07-4d6f-8f08-e5ab2b9871a4",
   "metadata": {},
   "outputs": [
    {
     "data": {
      "text/plain": [
       "[(5346, 'the'),\n",
       " (2795, 'and'),\n",
       " (2729, 'i'),\n",
       " (2400, 'to'),\n",
       " (2060, 'of'),\n",
       " (1566, 'a'),\n",
       " (1430, 'was'),\n",
       " (1419, 'in'),\n",
       " (1226, 'we'),\n",
       " (1169, 'my')]"
      ]
     },
     "execution_count": 10,
     "metadata": {},
     "output_type": "execute_result"
    }
   ],
   "source": [
    "dict_list = [(value, key) for (key,value) in dict.items()]\n",
    "sorted(dict_list, reverse=True)[:10]"
   ]
  },
  {
   "cell_type": "markdown",
   "id": "8d282181-2f4b-4547-9e02-06f1acecf1af",
   "metadata": {},
   "source": [
    "# Student task"
   ]
  },
  {
   "cell_type": "markdown",
   "id": "e3c3bb4c-9ae7-4f94-82a6-aef8f1f33224",
   "metadata": {},
   "source": [
    "## Load the book"
   ]
  },
  {
   "cell_type": "code",
   "execution_count": 11,
   "id": "1e8c461a-70ab-4ecd-80b2-6d7705fac7af",
   "metadata": {},
   "outputs": [],
   "source": [
    "with open(\"miracle_in_the_andes.txt\", \"r\", errors=\"ignore\") as file:\n",
    "    book = file.read()"
   ]
  },
  {
   "cell_type": "code",
   "execution_count": 51,
   "id": "e89cf8e2-6993-4bba-8251-9d99603bb6ab",
   "metadata": {},
   "outputs": [
    {
     "data": {
      "text/plain": [
       "['To me, this is the essence of rugby. No other sport gives you such an intense sense of selflessness and unified purpose. I believe this is why rugby players all over the world feel such a passion for the game and such a feeling of brotherhood. As a young man, of course, I could not put these things into words, but I knew, and my teammates knew, that there was something special about the game, and under the guidance of the Christian Brothers we developed a passionate love for the sport that shaped our friendships and our lives. For eight years we played our hearts out for the Christian Brothersâ€”a brotherhood of young boys with Latin names, playing a game with deep Anglo roots under Uruguayâ€™s sunny skies, and proudly wearing the bright green shamrock on our uniforms. The game became so much a part of our lives, in fact, that when we graduated from Stella Maris at the age of sixteen, many of us could not bear the thought that our playing days were over. Our salvation came in the form of the Old Christians Club, a private rugby team formed in 1965 by previous alumni of the Stella Maris rugby program to give Stella Maris ruggers a chance to continue playing the game after our school years ended.',\n",
       " 'There were othersâ€”Alexis Hounie, GastÃ³n Costemalle, Daniel Shawâ€”all of them great players and all of them my friends. But my oldest friend was Guido Magri. He and I had met on my first day at the Stella Maris Schoolâ€”I was eight years old and Guido was one year olderâ€”and we had been inseparable ever since. Guido and I grew up together, playing soccer and sharing a love of motorcycles, cars, and auto racing. When I was fifteen we both had mopeds that we had modified in silly waysâ€”removing the mufflers, turn signals, and fendersâ€”and we would ride them to Las Delicias, a famous ice cream parlor in our neighborhood, where we would drool over the girls from the nearby School Sagrado CorazÃ³n, hoping to impress them with our souped-up scooters. Guido was a dependable friend, with a good sense of humor and an easy laugh. He was also an outstanding scrum half, as quick and smart as a fox, with good hands and great courage. Under the guidance of the Christian Brothers, both of us grew to love the game of rugby with a consuming passion. As seasons passed we worked hard to improve our skills, and by the time I was fifteen we had each earned a spot on the Stella Maris First XV, the teamâ€™s starting lineup. After graduation, both of us went on to join the Old Christians and spent several happy seasons pursuing the high-octane social life of young rugby players. That rowdiness came to an abrupt end for Guido in 1969, when he met and fell in love with the beautiful daughter of a Chilean diplomat. She was now his fiancÃ©e, and he was happy to behave himself for her sake.']"
      ]
     },
     "execution_count": 51,
     "metadata": {},
     "output_type": "execute_result"
    }
   ],
   "source": [
    "pattern = re.compile(\"[^\\n]+love[^\\n]+\")\n",
    "findings = re.findall(pattern, book)\n",
    "findings[:2]"
   ]
  },
  {
   "cell_type": "markdown",
   "id": "25c98af5-9eff-45cf-ae6c-db09a3f87fdb",
   "metadata": {},
   "source": [
    "## Extract the chapter titles"
   ]
  },
  {
   "cell_type": "code",
   "execution_count": 52,
   "id": "6dd857b9-ee2a-4edd-9c37-447c7f74943d",
   "metadata": {},
   "outputs": [
    {
     "data": {
      "text/plain": [
       "['before',\n",
       " 'precious',\n",
       " 'promise',\n",
       " 'more',\n",
       " 'abandoned',\n",
       " 'tomb',\n",
       " 'east',\n",
       " 'death',\n",
       " 'man',\n",
       " 'after']"
      ]
     },
     "execution_count": 52,
     "metadata": {},
     "output_type": "execute_result"
    }
   ],
   "source": [
    "import re\n",
    "pattern = re.compile(\"[a-zA-Z]+\\n\\n\")\n",
    "findings = re.findall(pattern, book.lower())\n",
    "findings = [finding.strip() for finding in findings]\n",
    "findings"
   ]
  },
  {
   "cell_type": "markdown",
   "id": "1eef9269-f21d-4ac8-988c-be3f789c5acb",
   "metadata": {},
   "source": [
    "## Function that finds occurance of any word"
   ]
  },
  {
   "cell_type": "code",
   "execution_count": 58,
   "id": "5c104c4e-2f95-4ce9-a2e3-f72eb5fc258c",
   "metadata": {},
   "outputs": [],
   "source": [
    "def count_occurance(word): \n",
    "    pattern = re.compile(\"[a-zA-Z]+\")\n",
    "    findings = re.findall(pattern, book.lower())\n",
    "    dict = {}\n",
    "    for finding in findings:\n",
    "        if finding in dict.keys():\n",
    "            dict[finding] = dict[finding] + 1\n",
    "        else:\n",
    "            dict[finding] =  1\n",
    "    try:\n",
    "        return dict[word]\n",
    "    except:\n",
    "        return \"This word is not in the book.\""
   ]
  },
  {
   "cell_type": "markdown",
   "id": "fe37104e-478f-4bd7-8c22-6f2ffeee7c62",
   "metadata": {},
   "source": [
    "## Call the function"
   ]
  },
  {
   "cell_type": "code",
   "execution_count": 59,
   "id": "1671d736-07a9-4c6e-9e8f-62951cb79b34",
   "metadata": {},
   "outputs": [
    {
     "data": {
      "text/plain": [
       "83"
      ]
     },
     "execution_count": 59,
     "metadata": {},
     "output_type": "execute_result"
    }
   ],
   "source": [
    "count_occurance(\"love\")"
   ]
  },
  {
   "cell_type": "code",
   "execution_count": 60,
   "id": "010b41c0-c01f-4856-adc1-4dc61dd89114",
   "metadata": {},
   "outputs": [
    {
     "data": {
      "text/plain": [
       "'This word is not in the book.'"
      ]
     },
     "execution_count": 60,
     "metadata": {},
     "output_type": "execute_result"
    }
   ],
   "source": [
    "count_occurance(\"hate\")"
   ]
  },
  {
   "cell_type": "code",
   "execution_count": null,
   "id": "76ef4836-8556-4623-80e4-5f4feffc9cd3",
   "metadata": {},
   "outputs": [],
   "source": []
  }
 ],
 "metadata": {
  "kernelspec": {
   "display_name": "Python 3 (ipykernel)",
   "language": "python",
   "name": "python3"
  },
  "language_info": {
   "codemirror_mode": {
    "name": "ipython",
    "version": 3
   },
   "file_extension": ".py",
   "mimetype": "text/x-python",
   "name": "python",
   "nbconvert_exporter": "python",
   "pygments_lexer": "ipython3",
   "version": "3.9.13"
  }
 },
 "nbformat": 4,
 "nbformat_minor": 5
}

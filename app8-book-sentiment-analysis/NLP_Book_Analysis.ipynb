{
 "cells": [
  {
   "cell_type": "markdown",
   "id": "b9a6c008-1b7a-4ad8-a25a-a10ee15ebb5f",
   "metadata": {},
   "source": [
    "## Loading the book"
   ]
  },
  {
   "cell_type": "code",
   "execution_count": 3,
   "id": "32655f44-d291-44be-8a22-723fd193fffd",
   "metadata": {},
   "outputs": [],
   "source": [
    "with open(\"miracle_in_the_andes.txt\", \"r\", errors='ignore') as file:\n",
    "    book = file.read()"
   ]
  },
  {
   "cell_type": "markdown",
   "id": "1a94ddbd-4e37-4328-8875-2650250bac05",
   "metadata": {},
   "source": [
    "## The most used words (non-articles)"
   ]
  },
  {
   "cell_type": "code",
   "execution_count": 5,
   "id": "d9f292e4-99ac-4214-aeab-6c35ac31e059",
   "metadata": {},
   "outputs": [
    {
     "data": {
      "text/plain": [
       "['chapter',\n",
       " 'before',\n",
       " 'it',\n",
       " 'was',\n",
       " 'friday',\n",
       " 'the',\n",
       " 'thirteenth',\n",
       " 'of',\n",
       " 'october',\n",
       " 'we']"
      ]
     },
     "execution_count": 5,
     "metadata": {},
     "output_type": "execute_result"
    }
   ],
   "source": [
    "import re\n",
    "pattern = re.compile(\"[a-zA-Z]+\")\n",
    "findings = re.findall(pattern, book.lower())\n",
    "findings[:10]"
   ]
  },
  {
   "cell_type": "code",
   "execution_count": 6,
   "id": "9b65c811-030d-4b67-a877-d18a3f5e116c",
   "metadata": {},
   "outputs": [],
   "source": [
    "dict = {}\n",
    "for word in findings:\n",
    "    if word in dict.keys():\n",
    "        dict[word] = dict[word] + 1\n",
    "    else:\n",
    "        dict[word] = 1"
   ]
  },
  {
   "cell_type": "code",
   "execution_count": 7,
   "id": "ae9ecb37-4ac1-49a3-a6f1-3e8239bbf825",
   "metadata": {},
   "outputs": [
    {
     "data": {
      "text/plain": [
       "[(5346, 'the'), (2795, 'and'), (2729, 'i'), (2400, 'to'), (2060, 'of')]"
      ]
     },
     "execution_count": 7,
     "metadata": {},
     "output_type": "execute_result"
    }
   ],
   "source": [
    "dict_list = [(value, key) for (key,value) in dict.items()]\n",
    "dict_list= sorted(dict_list, reverse=True)\n",
    "dict_list[:5]"
   ]
  },
  {
   "cell_type": "markdown",
   "id": "6eac7bd3-f7cb-40d3-ba5b-30837d382403",
   "metadata": {},
   "source": [
    "## Find out the python version"
   ]
  },
  {
   "cell_type": "code",
   "execution_count": 8,
   "id": "11ad4bfd-47ec-4a5f-a74b-047bd1482fbc",
   "metadata": {},
   "outputs": [
    {
     "data": {
      "text/plain": [
       "'3.9.13'"
      ]
     },
     "execution_count": 8,
     "metadata": {},
     "output_type": "execute_result"
    }
   ],
   "source": [
    "from platform import python_version\n",
    "python_version()"
   ]
  },
  {
   "cell_type": "markdown",
   "id": "ebaf4f5a-f573-4bbc-8ba7-2fb6215ae1d4",
   "metadata": {},
   "source": [
    "## What are the most used words?"
   ]
  },
  {
   "cell_type": "code",
   "execution_count": 9,
   "id": "0dbb24d8-8989-4f47-92a2-47bb5a269b15",
   "metadata": {},
   "outputs": [],
   "source": [
    "import nltk\n",
    "from nltk.corpus import stopwords"
   ]
  },
  {
   "cell_type": "code",
   "execution_count": 10,
   "id": "b96e7b42-41a6-4109-8cc0-51fc15aac8b8",
   "metadata": {},
   "outputs": [
    {
     "data": {
      "text/plain": [
       "['i', 'me', 'my', 'myself', 'we']"
      ]
     },
     "execution_count": 10,
     "metadata": {},
     "output_type": "execute_result"
    }
   ],
   "source": [
    "english_stopwords = stopwords.words(\"english\")\n",
    "english_stopwords[:5]"
   ]
  },
  {
   "cell_type": "code",
   "execution_count": 11,
   "id": "4bd00236-7642-420f-9e0f-60d13e9feca3",
   "metadata": {},
   "outputs": [
    {
     "data": {
      "text/plain": [
       "[('would', 575),\n",
       " ('us', 519),\n",
       " ('said', 292),\n",
       " ('roberto', 284),\n",
       " ('could', 252),\n",
       " ('one', 249),\n",
       " ('snow', 227),\n",
       " ('mountain', 183),\n",
       " ('time', 182),\n",
       " ('like', 165)]"
      ]
     },
     "execution_count": 11,
     "metadata": {},
     "output_type": "execute_result"
    }
   ],
   "source": [
    "filtered_words = []\n",
    "for count, word in dict_list:\n",
    "    if word not in english_stopwords:\n",
    "        filtered_words.append((word, count))\n",
    "\n",
    "filtered_words[:10]"
   ]
  },
  {
   "cell_type": "markdown",
   "id": "9aa158f7-ebf7-424e-8a33-09e8d581da7f",
   "metadata": {},
   "source": [
    "## Sentiment Analysis: What is the most positive and most negative chapter?"
   ]
  },
  {
   "cell_type": "markdown",
   "id": "e4c449a2-614a-447d-a00f-e0be2a32e06f",
   "metadata": {},
   "source": [
    "### An example"
   ]
  },
  {
   "cell_type": "code",
   "execution_count": 12,
   "id": "b0cd07fc-dba5-4269-96a4-4450ded44b53",
   "metadata": {},
   "outputs": [
    {
     "name": "stderr",
     "output_type": "stream",
     "text": [
      "[nltk_data] Error loading SentimentIntensityAnalyzer: Package\n",
      "[nltk_data]     'SentimentIntensityAnalyzer' not found in index\n"
     ]
    },
    {
     "data": {
      "text/plain": [
       "False"
      ]
     },
     "execution_count": 12,
     "metadata": {},
     "output_type": "execute_result"
    }
   ],
   "source": [
    "from nltk.sentiment import SentimentIntensityAnalyzer\n",
    "nltk.download('SentimentIntensityAnalyzer')"
   ]
  },
  {
   "cell_type": "code",
   "execution_count": 13,
   "id": "a1862346-d7df-4537-ab6c-fb88b116d248",
   "metadata": {},
   "outputs": [],
   "source": [
    "analyzer = SentimentIntensityAnalyzer()"
   ]
  },
  {
   "cell_type": "code",
   "execution_count": 15,
   "id": "3f305f82-60e1-4249-ad0e-0408b2195016",
   "metadata": {},
   "outputs": [],
   "source": [
    "scores = analyzer.polarity_scores(\"Hey, look how bad the trees are. I hate them. I really hate them\")"
   ]
  },
  {
   "cell_type": "code",
   "execution_count": 16,
   "id": "6b98b883-82f0-4b70-80f4-119109fe20a9",
   "metadata": {},
   "outputs": [
    {
     "name": "stdout",
     "output_type": "stream",
     "text": [
      "It is a negative text\n"
     ]
    }
   ],
   "source": [
    "if scores[\"pos\"] > scores[\"neg\"]:\n",
    "    print(\"It is a positive text\")\n",
    "else:\n",
    "    print(\"It is a negative text\")"
   ]
  },
  {
   "cell_type": "code",
   "execution_count": 18,
   "id": "4b86f303-3131-4ad8-a030-b38e3fe9f924",
   "metadata": {},
   "outputs": [],
   "source": [
    "scores = analyzer.polarity_scores(book)"
   ]
  },
  {
   "cell_type": "markdown",
   "id": "d9ff2b4a-91f6-4ad5-926b-297f4f481a50",
   "metadata": {},
   "source": [
    "## Chapters sentiment analysis"
   ]
  },
  {
   "cell_type": "code",
   "execution_count": 21,
   "id": "71d491b3-59cf-4c4f-bdb9-cc4027ec9360",
   "metadata": {},
   "outputs": [],
   "source": [
    "import re\n",
    "pattern = re.compile(\"Chapter [0-9]+\")\n",
    "chapters = re.findall(pattern, book)"
   ]
  },
  {
   "cell_type": "code",
   "execution_count": 22,
   "id": "e866ccd9-d261-460e-80d9-23c53f146eb3",
   "metadata": {},
   "outputs": [],
   "source": [
    "chapters = chapters[1:]"
   ]
  },
  {
   "cell_type": "code",
   "execution_count": 25,
   "id": "eb680845-bc4b-4d50-8ac6-808bf9a965b9",
   "metadata": {},
   "outputs": [
    {
     "name": "stdout",
     "output_type": "stream",
     "text": [
      "1 {'neg': 0.0, 'neu': 1.0, 'pos': 0.0, 'compound': 0.0}\n",
      "2 {'neg': 0.0, 'neu': 1.0, 'pos': 0.0, 'compound': 0.0}\n",
      "3 {'neg': 0.0, 'neu': 1.0, 'pos': 0.0, 'compound': 0.0}\n",
      "4 {'neg': 0.0, 'neu': 1.0, 'pos': 0.0, 'compound': 0.0}\n",
      "5 {'neg': 0.0, 'neu': 1.0, 'pos': 0.0, 'compound': 0.0}\n",
      "6 {'neg': 0.0, 'neu': 1.0, 'pos': 0.0, 'compound': 0.0}\n",
      "7 {'neg': 0.0, 'neu': 1.0, 'pos': 0.0, 'compound': 0.0}\n",
      "8 {'neg': 0.0, 'neu': 1.0, 'pos': 0.0, 'compound': 0.0}\n",
      "9 {'neg': 0.0, 'neu': 1.0, 'pos': 0.0, 'compound': 0.0}\n"
     ]
    }
   ],
   "source": [
    "for nr, chapter in enumerate(chapters):\n",
    "    scores = analyzer.polarity_scores(chapter)\n",
    "    print(nr + 1, scores)"
   ]
  }
 ],
 "metadata": {
  "kernelspec": {
   "display_name": "Python 3 (ipykernel)",
   "language": "python",
   "name": "python3"
  },
  "language_info": {
   "codemirror_mode": {
    "name": "ipython",
    "version": 3
   },
   "file_extension": ".py",
   "mimetype": "text/x-python",
   "name": "python",
   "nbconvert_exporter": "python",
   "pygments_lexer": "ipython3",
   "version": "3.9.13"
  }
 },
 "nbformat": 4,
 "nbformat_minor": 5
}
